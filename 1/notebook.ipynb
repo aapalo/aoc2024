{
 "cells": [
  {
   "cell_type": "code",
   "execution_count": 8,
   "id": "0959b566-c31a-4cf9-aa16-da1d71f21a52",
   "metadata": {},
   "outputs": [],
   "source": [
    "#!/usr/bin/python3"
   ]
  },
  {
   "cell_type": "code",
   "execution_count": 9,
   "id": "cb88d538-8fc9-46c7-8140-4675c3a6ceb1",
   "metadata": {},
   "outputs": [],
   "source": [
    "#from collections import Counter\n",
    "#import re\n",
    "#import os\n",
    "import time\n",
    "#from collections import defaultdict\n",
    "#from collections import deque"
   ]
  },
  {
   "cell_type": "code",
   "execution_count": 10,
   "id": "f55b7992-aa00-49bd-8321-64bbd778e15e",
   "metadata": {},
   "outputs": [
    {
     "name": "stdout",
     "output_type": "stream",
     "text": [
      "https://adventofcode.com/2024/day/1\n"
     ]
    }
   ],
   "source": [
    "date = 1\n",
    "dev = 0 # extra prints\n",
    "part = 3 # 1,2, or 3 for both\n",
    "# 0 or 1:\n",
    "samp = 0\n",
    "print(\"https://adventofcode.com/2024/day/{}\".format(date))"
   ]
  },
  {
   "cell_type": "markdown",
   "id": "88404eb8-4034-4bdd-9dae-86e31d39efba",
   "metadata": {
    "tags": []
   },
   "source": [
    "## Read the input data "
   ]
  },
  {
   "cell_type": "code",
   "execution_count": 11,
   "id": "95c6dda8-9ebf-4edc-bfc1-078ba6b51e32",
   "metadata": {},
   "outputs": [
    {
     "name": "stdout",
     "output_type": "stream",
     "text": [
      "1000\n"
     ]
    }
   ],
   "source": [
    "#time0 = time.time()\n",
    "\n",
    "if samp == 1:\n",
    "    filename = \"/sample.txt\"\n",
    "else:\n",
    "    filename = \"/input.txt\"\n",
    "try:\n",
    "    with open(str(date) + filename,\"r\") as f:\n",
    "        t = f.readlines()\n",
    "except FileNotFoundError:\n",
    "    with open(\".\" + filename,\"r\") as f:\n",
    "        t = f.readlines()\n",
    "\n",
    "t = [(x.strip().replace('  ',' ')) for x in t]\n",
    "#t = [int(x) for x in t]\n",
    "print(len(t))"
   ]
  },
  {
   "cell_type": "markdown",
   "id": "e4a219ce-1941-48f2-9b11-4717581c82c9",
   "metadata": {},
   "source": [
    "## Part one"
   ]
  },
  {
   "cell_type": "code",
   "execution_count": 12,
   "id": "72b8f11d-18f0-4f2e-9438-75aff4b78bc1",
   "metadata": {
    "tags": []
   },
   "outputs": [
    {
     "data": {
      "text/plain": [
       "1879048"
      ]
     },
     "execution_count": 12,
     "metadata": {},
     "output_type": "execute_result"
    }
   ],
   "source": [
    "def part_one(te):\n",
    "    ans = 0\n",
    "    list1 = []\n",
    "    list2 = []\n",
    "    for r in te:\n",
    "        r = (r.split())\n",
    "        list1.append(int(r[0]))\n",
    "        list2.append(int(r[1]))\n",
    "    list1 = sorted(list1)\n",
    "    list2 = sorted(list2)\n",
    "    for i in range(len(list1)):\n",
    "        ans += abs(list1[i] - list2[i])\n",
    "        if (ans < 100) and 0:\n",
    "            print(list1[i], list2[i], ans)\n",
    "    #print(list2, sum(list2))\n",
    "        \n",
    "    return ans\n",
    "part_one(t)"
   ]
  },
  {
   "cell_type": "markdown",
   "id": "99b4800a-d2b1-4fb8-a6fb-af8b8d5f80cb",
   "metadata": {},
   "source": [
    "## Part two"
   ]
  },
  {
   "cell_type": "code",
   "execution_count": 13,
   "id": "aa19182a-5969-4229-9b5c-8630a4e51d53",
   "metadata": {
    "tags": []
   },
   "outputs": [
    {
     "data": {
      "text/plain": [
       "21024792"
      ]
     },
     "execution_count": 13,
     "metadata": {},
     "output_type": "execute_result"
    }
   ],
   "source": [
    "def part_two(te):\n",
    "    \n",
    "    ans = 0\n",
    "    list1 = []\n",
    "    list2 = []\n",
    "    for r in te:\n",
    "        r = (r.split())\n",
    "        list1.append(int(r[0]))\n",
    "        list2.append(int(r[1]))\n",
    "    set1 = set(list1)\n",
    "    set2 = set(list2)\n",
    "    comset = set1 & set2\n",
    "    #print(\"Set &\", comset)\n",
    "    for i in range(len(list1)):\n",
    "        score = list1[i] * list2.count(list1[i])\n",
    "        ans += score\n",
    "        #if list1[i] in comset:\n",
    "        if (score > 0) and 0:\n",
    "            print(list1[i], list2[i], score)\n",
    "    #print(list2, sum(list2))\n",
    "        \n",
    "    return ans\n",
    "part_two(t)"
   ]
  },
  {
   "cell_type": "markdown",
   "id": "52366ae7-ceec-409e-b637-0e61036c962f",
   "metadata": {},
   "source": [
    "## Run the programs"
   ]
  },
  {
   "cell_type": "code",
   "execution_count": 14,
   "id": "e7c79c46-6c97-4a27-92c3-cf2c5a54a320",
   "metadata": {},
   "outputs": [],
   "source": [
    "if 0:\n",
    "    time0 = time.time()\n",
    "    if part == 1:\n",
    "        print(\"Part 1: \", part_one(t))\n",
    "    elif part == 2:\n",
    "        print(\"Part 2: \", part_two(t))\n",
    "    elif part == 3:\n",
    "        #run both\n",
    "        print(\"Part 1: \", part_one(t))\n",
    "        print(\"Part 2: \", part_two(t))\n",
    "    tdif = time.time() - time0\n",
    "    print(\"Elapsed time: {:.4f} s\".format(tdif))"
   ]
  }
 ],
 "metadata": {
  "kernelspec": {
   "display_name": "Python 3 (ipykernel)",
   "language": "python",
   "name": "python3"
  },
  "language_info": {
   "codemirror_mode": {
    "name": "ipython",
    "version": 3
   },
   "file_extension": ".py",
   "mimetype": "text/x-python",
   "name": "python",
   "nbconvert_exporter": "python",
   "pygments_lexer": "ipython3",
   "version": "3.9.2"
  }
 },
 "nbformat": 4,
 "nbformat_minor": 5
}
