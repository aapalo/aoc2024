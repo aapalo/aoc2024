{
 "cells": [
  {
   "cell_type": "code",
   "execution_count": 70,
   "id": "0959b566-c31a-4cf9-aa16-da1d71f21a52",
   "metadata": {},
   "outputs": [],
   "source": [
    "#!/usr/bin/python3"
   ]
  },
  {
   "cell_type": "code",
   "execution_count": 71,
   "id": "cb88d538-8fc9-46c7-8140-4675c3a6ceb1",
   "metadata": {},
   "outputs": [],
   "source": [
    "#from collections import Counter\n",
    "#import re\n",
    "#import os\n",
    "import time\n",
    "#from collections import defaultdict\n",
    "#from collections import deque"
   ]
  },
  {
   "cell_type": "code",
   "execution_count": 72,
   "id": "f55b7992-aa00-49bd-8321-64bbd778e15e",
   "metadata": {},
   "outputs": [
    {
     "name": "stdout",
     "output_type": "stream",
     "text": [
      "https://adventofcode.com/2024/day/1\n"
     ]
    }
   ],
   "source": [
    "date = 1\n",
    "dev = 0 # extra prints\n",
    "part = 3 # 1,2, or 3 for both\n",
    "# 0 or 1:\n",
    "samp = 0\n",
    "print(\"https://adventofcode.com/2024/day/{}\".format(date))"
   ]
  },
  {
   "cell_type": "markdown",
   "id": "88404eb8-4034-4bdd-9dae-86e31d39efba",
   "metadata": {
    "tags": []
   },
   "source": [
    "## Read the input data "
   ]
  },
  {
   "cell_type": "code",
   "execution_count": 73,
   "id": "95c6dda8-9ebf-4edc-bfc1-078ba6b51e32",
   "metadata": {},
   "outputs": [
    {
     "name": "stdout",
     "output_type": "stream",
     "text": [
      "1000\n"
     ]
    }
   ],
   "source": [
    "#time0 = time.time()\n",
    "\n",
    "if samp == 1:\n",
    "    filename = \"/sample.txt\"\n",
    "else:\n",
    "    filename = \"/input.txt\"\n",
    "try:\n",
    "    with open(str(date) + filename,\"r\") as f:\n",
    "        t = f.readlines()\n",
    "except FileNotFoundError:\n",
    "    with open(\".\" + filename,\"r\") as f:\n",
    "        t = f.readlines()\n",
    "\n",
    "t = [(x.strip().replace('  ',' ')) for x in t]\n",
    "#t = [int(x) for x in t]\n",
    "print(len(t))"
   ]
  },
  {
   "cell_type": "markdown",
   "id": "e4a219ce-1941-48f2-9b11-4717581c82c9",
   "metadata": {},
   "source": [
    "## Part one"
   ]
  },
  {
   "cell_type": "code",
   "execution_count": 74,
   "id": "72b8f11d-18f0-4f2e-9438-75aff4b78bc1",
   "metadata": {
    "tags": []
   },
   "outputs": [
    {
     "data": {
      "text/plain": [
       "1879048"
      ]
     },
     "execution_count": 74,
     "metadata": {},
     "output_type": "execute_result"
    }
   ],
   "source": [
    "def part_one(te):\n",
    "    ans = 0\n",
    "    list1 = []\n",
    "    list2 = []\n",
    "    for r in te:\n",
    "        r = (r.split())\n",
    "        list1.append(int(r[0]))\n",
    "        list2.append(int(r[1]))\n",
    "    list1 = sorted(list1)\n",
    "    list2 = sorted(list2)\n",
    "    for i in range(len(list1)):\n",
    "        ans += abs(list1[i] - list2[i])\n",
    "        if (ans < 100) and 0:\n",
    "            print(list1[i], list2[i], ans)\n",
    "    #print(list2, sum(list2))\n",
    "        \n",
    "    return ans\n",
    "part_one(t)"
   ]
  },
  {
   "cell_type": "markdown",
   "id": "99b4800a-d2b1-4fb8-a6fb-af8b8d5f80cb",
   "metadata": {},
   "source": [
    "## Part two"
   ]
  },
  {
   "cell_type": "code",
   "execution_count": 75,
   "id": "aa19182a-5969-4229-9b5c-8630a4e51d53",
   "metadata": {
    "tags": []
   },
   "outputs": [
    {
     "name": "stdout",
     "output_type": "stream",
     "text": [
      "Set & {87301, 14598, 72850, 17811, 32404, 60950, 99735, 39320, 46875, 23840, 93602, 92579, 13349, 27046, 90281, 12845, 31279, 88369, 20530, 85172, 42548, 49209, 36666, 99003, 24252, 24766, 46022, 17352, 41554, 57298, 59605, 85209, 60764, 94436, 20200, 44394, 82798, 51318, 10870, 19574}\n",
      "44394 99003 133182\n",
      "87301 46022 1484117\n",
      "10870 49159 184790\n",
      "46875 33198 750000\n",
      "31279 82252 218953\n",
      "85209 12845 511254\n",
      "57298 32444 114596\n",
      "39320 48658 393200\n",
      "12845 10870 256900\n",
      "17811 93480 267165\n",
      "32404 58367 648080\n",
      "85172 77816 1618268\n",
      "92579 91814 462895\n",
      "20200 50429 141400\n",
      "99003 99003 1683051\n",
      "19574 80163 234888\n",
      "13349 20530 106792\n",
      "59605 79377 178815\n",
      "23840 16180 452960\n",
      "17352 59737 277632\n",
      "24766 17393 272426\n",
      "24252 51318 72756\n",
      "36666 86119 513324\n",
      "88369 40289 1767380\n",
      "60950 89290 670450\n",
      "14598 32404 116784\n",
      "51318 16119 975042\n",
      "46022 15395 414198\n",
      "20530 17811 369540\n",
      "90281 62295 902810\n",
      "27046 58715 351598\n",
      "93602 74875 561612\n",
      "42548 74927 170192\n",
      "49209 46875 344463\n",
      "82798 84255 745182\n",
      "60764 46875 60764\n",
      "41554 91631 498648\n",
      "94436 46875 944360\n",
      "72850 47594 655650\n",
      "99735 87301 498675\n"
     ]
    },
    {
     "data": {
      "text/plain": [
       "21024792"
      ]
     },
     "execution_count": 75,
     "metadata": {},
     "output_type": "execute_result"
    }
   ],
   "source": [
    "def part_two(te):\n",
    "    \n",
    "    ans = 0\n",
    "    list1 = []\n",
    "    list2 = []\n",
    "    for r in te:\n",
    "        r = (r.split())\n",
    "        list1.append(int(r[0]))\n",
    "        list2.append(int(r[1]))\n",
    "    set1 = set(list1)\n",
    "    set2 = set(list2)\n",
    "    comset = set1 & set2\n",
    "    print(\"Set &\", comset)\n",
    "    for i in range(len(list1)):\n",
    "        score = list1[i] * list2.count(list1[i])\n",
    "        ans += score\n",
    "        #if list1[i] in comset:\n",
    "        if score > 0:\n",
    "            print(list1[i], list2[i], score)\n",
    "    #print(list2, sum(list2))\n",
    "        \n",
    "    return ans\n",
    "part_two(t)"
   ]
  },
  {
   "cell_type": "markdown",
   "id": "52366ae7-ceec-409e-b637-0e61036c962f",
   "metadata": {},
   "source": [
    "## Run the programs"
   ]
  },
  {
   "cell_type": "code",
   "execution_count": 76,
   "id": "e7c79c46-6c97-4a27-92c3-cf2c5a54a320",
   "metadata": {},
   "outputs": [
    {
     "name": "stdout",
     "output_type": "stream",
     "text": [
      "Part 1:  1879048\n",
      "Set & {87301, 14598, 72850, 17811, 32404, 60950, 99735, 39320, 46875, 23840, 93602, 92579, 13349, 27046, 90281, 12845, 31279, 88369, 20530, 85172, 42548, 49209, 36666, 99003, 24252, 24766, 46022, 17352, 41554, 57298, 59605, 85209, 60764, 94436, 20200, 44394, 82798, 51318, 10870, 19574}\n",
      "44394 99003 133182\n",
      "87301 46022 1484117\n",
      "10870 49159 184790\n",
      "46875 33198 750000\n",
      "31279 82252 218953\n",
      "85209 12845 511254\n",
      "57298 32444 114596\n",
      "39320 48658 393200\n",
      "12845 10870 256900\n",
      "17811 93480 267165\n",
      "32404 58367 648080\n",
      "85172 77816 1618268\n",
      "92579 91814 462895\n",
      "20200 50429 141400\n",
      "99003 99003 1683051\n",
      "19574 80163 234888\n",
      "13349 20530 106792\n",
      "59605 79377 178815\n",
      "23840 16180 452960\n",
      "17352 59737 277632\n",
      "24766 17393 272426\n",
      "24252 51318 72756\n",
      "36666 86119 513324\n",
      "88369 40289 1767380\n",
      "60950 89290 670450\n",
      "14598 32404 116784\n",
      "51318 16119 975042\n",
      "46022 15395 414198\n",
      "20530 17811 369540\n",
      "90281 62295 902810\n",
      "27046 58715 351598\n",
      "93602 74875 561612\n",
      "42548 74927 170192\n",
      "49209 46875 344463\n",
      "82798 84255 745182\n",
      "60764 46875 60764\n",
      "41554 91631 498648\n",
      "94436 46875 944360\n",
      "72850 47594 655650\n",
      "99735 87301 498675\n",
      "Part 2:  21024792\n",
      "Elapsed time: 0.0569 s\n"
     ]
    }
   ],
   "source": [
    "if 1:\n",
    "    time0 = time.time()\n",
    "    if part == 1:\n",
    "        print(\"Part 1: \", part_one(t))\n",
    "    elif part == 2:\n",
    "        print(\"Part 2: \", part_two(t))\n",
    "    elif part == 3:\n",
    "        #run both\n",
    "        print(\"Part 1: \", part_one(t))\n",
    "        print(\"Part 2: \", part_two(t))\n",
    "    tdif = time.time() - time0\n",
    "    print(\"Elapsed time: {:.4f} s\".format(tdif))"
   ]
  }
 ],
 "metadata": {
  "kernelspec": {
   "display_name": "Python 3 (ipykernel)",
   "language": "python",
   "name": "python3"
  },
  "language_info": {
   "codemirror_mode": {
    "name": "ipython",
    "version": 3
   },
   "file_extension": ".py",
   "mimetype": "text/x-python",
   "name": "python",
   "nbconvert_exporter": "python",
   "pygments_lexer": "ipython3",
   "version": "3.9.2"
  }
 },
 "nbformat": 4,
 "nbformat_minor": 5
}
